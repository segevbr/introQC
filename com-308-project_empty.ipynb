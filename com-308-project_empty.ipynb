{
 "cells": [
  {
   "cell_type": "code",
   "execution_count": 192,
   "metadata": {},
   "outputs": [],
   "source": [
    "from qiskit import QuantumCircuit, transpile\n",
    "from qiskit.primitives import StatevectorSampler,StatevectorEstimator\n",
    "from qiskit.circuit.library import UnitaryGate\n",
    "from qiskit.visualization import plot_histogram\n",
    "from qiskit.compiler import transpile\n",
    "import qiskit.quantum_info as qi\n",
    "from qiskit.quantum_info.operators import SparsePauliOp\n",
    "from itertools import product\n",
    "from scipy.linalg import expm\n",
    "import numpy as np\n",
    "import matplotlib.pyplot as plt"
   ]
  },
  {
   "cell_type": "markdown",
   "metadata": {},
   "source": [
    "**WARNING**\n",
    "\n",
    "The IBM platform to monitor jobs on real devices is migrating. We will use the old version for this project, available at this link : https://quantum.ibm.com"
   ]
  },
  {
   "cell_type": "markdown",
   "metadata": {},
   "source": [
    "## The HHL algorithm \n",
    "\n",
    "We want to implement the quantum circuit that allows us to solve linear systems of equations. We want to solve $Ax=b$ with full rank the matrix $A \\in \\mathbb{C}^{ 2^n\\times 2^n}$ and a vector $b \\in \\mathbb{C}^{ 2^n}$.\n",
    "\n",
    "For that, we encode $b$ in a state $|b \\rangle$ such that $|b\\rangle = \\sum_{i=0}^{2^n-1} b_i |i\\rangle$. Here, the $b_i$ are the components of $b$ and $|i\\rangle$ is the state of the computational basis given by the binary decomposition of $i$. \n",
    "\n",
    "The solution x is then given by $ |x\\rangle = cA^{-1}|b\\rangle, \\quad c^{-1} =\\|A^{-1}|b\\rangle\\|$. \n",
    "\n",
    "We have shown in the handout that if $(|u_i\\rangle)_{i=0, \\dots,2^n-1}$ is an eigenbasis of $A$ associated to the eigenvalues $\\lambda_i$ then we can rewrite $ |b\\rangle = \\sum_{i=0}^{2^n-1} \\beta_i |u_i\\rangle $ and the state $|x\\rangle$ is $|x\\rangle = c \\sum_{i=0}^{2^n-1} \\frac{\\beta_i}{\\lambda_i} |u_i\\rangle$.\n",
    "\n",
    "The circuit we want to implement is the following: \n",
    "\n",
    "<img src=\"./circuit.png\" alt=\"drawing\" width=\"800\">"
   ]
  },
  {
   "cell_type": "markdown",
   "metadata": {},
   "source": [
    "To have an easy implementation of the algorithm, we impose several constraints on $A$: \n",
    "\n",
    "- A is Hermitian.\n",
    "- The eigenvalues of $A$ are powers of 2. \n",
    "\n",
    "We give below a function that allows you to sample a matrix $A$ that verifies those constraints. "
   ]
  },
  {
   "cell_type": "code",
   "execution_count": 193,
   "metadata": {},
   "outputs": [],
   "source": [
    "def sample_A(n,i):\n",
    "    \"\"\"\n",
    "    Sample a random n-qubit Hermitian matrix A with eigenvalues being powers of 2 and at most 2^{i-1}.\n",
    "    \"\"\"\n",
    "    G = np.triu(np.random.rand(2**n, 2**n)) + 1j * np.triu(np.random.rand(2**n, 2**n))\n",
    "    H = G + G.T.conj()\n",
    "    np.fill_diagonal(H, np.random.rand(2**n))\n",
    "    _, v = np.linalg.eigh(H)\n",
    "    return v @ np.diag(np.random.choice([2**j for j in range(i)], 2**n)) @ v.T.conj()  # random"
   ]
  },
  {
   "cell_type": "markdown",
   "metadata": {},
   "source": [
    "### The QPE \n",
    "\n",
    "Let's start with the quantum phase estimation part. \n",
    "\n",
    "The detailed circuit is the following: \n",
    "\n",
    "<img src=\"./qpe.png\" alt=\"drawing\" width=\"600\">\n",
    "\n",
    "\n",
    "To implement the inverse QPE, we will need the inverse gates. Thus, we will construct both every time.\n"
   ]
  },
  {
   "cell_type": "markdown",
   "metadata": {},
   "source": [
    "#### Hadamard Layer \n",
    "\n",
    "We start by constructing a layer of Hadamard gates. Complete the following cell. "
   ]
  },
  {
   "cell_type": "code",
   "execution_count": 194,
   "metadata": {},
   "outputs": [],
   "source": [
    "def Hadamard_layer(m):\n",
    "    \"\"\"\n",
    "    Returns a quantum circuit that applies the Hadamard gate to each of the m qubits in the circuit.\n",
    "    \"\"\"\n",
    "    qc = QuantumCircuit(m, name=\"$H^{\\otimes m}$\")\n",
    "    for i in range(m):\n",
    "        qc.h(i)\n",
    "    ...\n",
    "    return qc"
   ]
  },
  {
   "cell_type": "code",
   "execution_count": 195,
   "metadata": {},
   "outputs": [
    {
     "data": {
      "image/png": "[encoded data removed]",
      "text/plain": [
       "<Figure size 146.797x204.68 with 1 Axes>"
      ]
     },
     "execution_count": 195,
     "metadata": {},
     "output_type": "execute_result"
    }
   ],
   "source": [
    "qc = Hadamard_layer(3)\n",
    "qc.draw('mpl')"
   ]
  },
  {
   "cell_type": "markdown",
   "metadata": {},
   "source": [
    "Let's check that our function is correct by applying it to the state |0⟩⊗3 and checking that the resulting state is the uniform superposition over all 3-qubit strings.\n",
    "\n",
    "To draw the output state, `qiskit` can require the package `pylatexenc`. To install it, you can use `pip install pylatexenc`."
   ]
  },
  {
   "cell_type": "code",
   "execution_count": 196,
   "metadata": {},
   "outputs": [
    {
     "data": {
      "text/latex": [
       "$$\\frac{\\sqrt{2}}{4} |000\\rangle+\\frac{\\sqrt{2}}{4} |001\\rangle+\\frac{\\sqrt{2}}{4} |010\\rangle+\\frac{\\sqrt{2}}{4} |011\\rangle+\\frac{\\sqrt{2}}{4} |100\\rangle+\\frac{\\sqrt{2}}{4} |101\\rangle+\\frac{\\sqrt{2}}{4} |110\\rangle+\\frac{\\sqrt{2}}{4} |111\\rangle$$"
      ],
      "text/plain": [
       "<IPython.core.display.Latex object>"
      ]
     },
     "metadata": {},
     "output_type": "display_data"
    },
    {
     "name": "stdout",
     "output_type": "stream",
     "text": [
      "The output state is uniform : True\n"
     ]
    }
   ],
   "source": [
    "# run the circuit with initial state |0>^{\\otimes 3} \n",
    "output = qi.Statevector.from_instruction(qc)\n",
    "uniform = np.ones(2**3)/np.sqrt(2**3)\n",
    "\n",
    "display(output.draw('latex'))\n",
    "\n",
    "print(\"The output state is uniform :\", output.equiv(uniform))"
   ]
  },
  {
   "cell_type": "markdown",
   "metadata": {},
   "source": [
    "The Hadamard gate is its own inverse, since $HH^\\dagger = H^2 = I$. "
   ]
  },
  {
   "cell_type": "markdown",
   "metadata": {},
   "source": [
    "#### Controlled Unitary\n",
    "\n",
    "We need now to implement the controlled version of the gate $U^{2^i} $ for $0 \\leq i < m$. Complete the following cell. \n",
    "\n",
    "Hint : Let's recall that $U = e^{i 2\\pi\\frac{A}{2^m}}$. The exponential of a matrix can be computed using `expm` from the `sympy` library. Arbitrary unitary can be added to the circuit with `UnitaryGate` from the qiskit library. "
   ]
  },
  {
   "cell_type": "code",
   "execution_count": 197,
   "metadata": {},
   "outputs": [],
   "source": [
    "def controlled_Us(A, n, m):\n",
    "    \"\"\"\n",
    "    Returns a quantum circuit that applies the m controlled-U^{2^i} gates \n",
    "    U is a 2^n x 2^n matrix, and m is the number of control qubits.\n",
    "    U is U = e^{i 2 pi A/2^m} where A is a Hermitian matrix.\n",
    "    \"\"\"\n",
    "    qc = QuantumCircuit(n + m, name=\"cU\")\n",
    "    # Calculate the exponential \n",
    "    \n",
    "    U = UnitaryGate(expm(1j * 2 * np.pi * A / (2**m)), label='U')\n",
    "\n",
    "    for i in range(m):\n",
    "        # Unitry matrix \n",
    "        unitary_i = U.power(2 ** i)\n",
    "        unitary_i.label = f'U^{2 ** i}'\n",
    "        # Controlled unitary\n",
    "        controlled_u = unitary_i.control(1)\n",
    "\n",
    "        qc.append(controlled_u, [i] + list(range(m, m + n)))\n",
    "    \n",
    "    ...\n",
    "    return qc"
   ]
  },
  {
   "cell_type": "code",
   "execution_count": 198,
   "metadata": {},
   "outputs": [
    {
     "data": {
      "image/png": "[encoded data removed]",
      "text/plain": [
       "<Figure size 267.197x385.28 with 1 Axes>"
      ]
     },
     "execution_count": 198,
     "metadata": {},
     "output_type": "execute_result"
    }
   ],
   "source": [
    "A = sample_A(3, 3)\n",
    "qc = controlled_Us(A, 3, 3)\n",
    "qc.draw('mpl')\n"
   ]
  },
  {
   "cell_type": "markdown",
   "metadata": {},
   "source": [
    "We also need the inverse operation. For that, we need to add the **inverse** of the controlled $U^{2^i} $ in **reverse** order. \n",
    "\n",
    "Think about what is the inverse of $U$."
   ]
  },
  {
   "cell_type": "code",
   "execution_count": 199,
   "metadata": {},
   "outputs": [],
   "source": [
    "def inverse_controlled_Us(A, n, m):\n",
    "    \"\"\"\n",
    "    Returns a quantum circuit that applies the m controlled-U^{2^i} gates \n",
    "    U is a 2^n x 2^n matrix, and m is the number of control qubits.\n",
    "    U is U = e^{i 2 pi A/2^m} where A is a Hermitian matrix.\n",
    "    \"\"\"\n",
    "    qc = controlled_Us(-A, n, m)\n",
    "    qc.name = \"c$U^\\dagger$\"\n",
    "    ...\n",
    "    return qc"
   ]
  },
  {
   "cell_type": "markdown",
   "metadata": {},
   "source": [
    "Let's draw the circuit."
   ]
  },
  {
   "cell_type": "code",
   "execution_count": 200,
   "metadata": {},
   "outputs": [
    {
     "data": {
      "image/png": "[encoded data removed]",
      "text/plain": [
       "<Figure size 327.397x385.28 with 1 Axes>"
      ]
     },
     "metadata": {},
     "output_type": "display_data"
    }
   ],
   "source": [
    "# Example usage\n",
    "n = 2 #nb of qubits for A \n",
    "m = 4 #nb of memory qubits\n",
    "A = sample_A(n, m)\n",
    "qc = controlled_Us(A, n, m)\n",
    "display(qc.draw('mpl'))"
   ]
  },
  {
   "cell_type": "markdown",
   "metadata": {},
   "source": [
    "And check that applying our two functions one after the other gives the identity."
   ]
  },
  {
   "cell_type": "code",
   "execution_count": 201,
   "metadata": {},
   "outputs": [
    {
     "data": {
      "image/png": "[encoded data removed]",
      "text/plain": [
       "<Figure size 568.197x385.28 with 1 Axes>"
      ]
     },
     "metadata": {},
     "output_type": "display_data"
    },
    {
     "name": "stdout",
     "output_type": "stream",
     "text": [
      "The circuit is equivalent to the Identity: True\n"
     ]
    }
   ],
   "source": [
    "qc = QuantumCircuit(m+n)\n",
    "\n",
    "qc.append(controlled_Us(A, n, m), range(m+n))\n",
    "qc.append(inverse_controlled_Us(A,n,m), range(m+n))\n",
    "display(qc.decompose().draw('mpl'))\n",
    "\n",
    "# Convert the circuit to a unitary matrix\n",
    "U_circuit = qi.Operator(qc)\n",
    "\n",
    "print(\"The circuit is equivalent to the Identity:\" , np.allclose(U_circuit.data, np.eye(2**(m+n))))\n"
   ]
  },
  {
   "cell_type": "markdown",
   "metadata": {},
   "source": [
    "#### QFT\n",
    "\n",
    "To finish the QPE, we need to implement the QFT. Do not use `qiskit QFT` other than to check your result (the qubit ordering is different). "
   ]
  },
  {
   "cell_type": "code",
   "execution_count": 202,
   "metadata": {},
   "outputs": [],
   "source": [
    "def QFT(m, do_swaps=True):\n",
    "    \"\"\"\n",
    "    Returns a quantum circuit implementing the Quantum Fourier Transform on m qubits\n",
    "    \"\"\"\n",
    "    qc = QuantumCircuit(m, name=r\"$QFT$\")\n",
    "\n",
    "    # qc = Hadamard_layer(m)\n",
    "    \n",
    "    for controlled_qubit in range(m-1, -1, -1):\n",
    "        for k in range(m - controlled_qubit, 1, -1):\n",
    "            qubit = controlled_qubit + k - 1\n",
    "            R_gate = QuantumCircuit(1, name=f'R^{k}')\n",
    "            R_gate.p(2 * np.pi / (2 ** k), 0)\n",
    "            R_controlled = R_gate.to_gate().control(1)\n",
    "            # R_controlled.name = f'R^{controlled_qubit}'\n",
    "\n",
    "            qc.append(R_controlled, [controlled_qubit, qubit])\n",
    "        qc.h(controlled_qubit)\n",
    "    if do_swaps:\n",
    "        for it in range(m//2):\n",
    "            qc.swap(it, m-it-1)\n",
    "    \n",
    "    return qc"
   ]
  },
  {
   "cell_type": "markdown",
   "metadata": {},
   "source": [
    "And the inverse QFT."
   ]
  },
  {
   "cell_type": "code",
   "execution_count": 203,
   "metadata": {},
   "outputs": [],
   "source": [
    "def inv_QFT(m, do_swaps=True):\n",
    "    \"\"\"\n",
    "    Returns a quantum circuit implementing the inverse Quantum Fourier Transform on m qubits\n",
    "    \"\"\"\n",
    "    qc = QuantumCircuit(m, name=r\"$QFT^\\dagger$\")\n",
    "\n",
    "    # qc = Hadamard_layer(m)\n",
    "    if do_swaps:\n",
    "        for it in range(m//2):\n",
    "           qc.swap(it, m-it-1)\n",
    "    for qubit in range(m):\n",
    "        qc.h(qubit)\n",
    "        for k in range(2, m - qubit+1):\n",
    "            controlled_qubit = qubit + k-1\n",
    "            R_gate = QuantumCircuit(1, name=f'R^{k}')\n",
    "            R_gate.p(-2 * np.pi / (2 ** k), 0) #should start at 2 up to m-qubit\n",
    "            R_controlled = R_gate.to_gate().control(1)  \n",
    "            # R_controlled.name = f'R^{controlled_qubit}'\n",
    "\n",
    "            qc.append(R_controlled, [controlled_qubit, qubit])\n",
    "\n",
    "    ...\n",
    "    return qc"
   ]
  },
  {
   "cell_type": "markdown",
   "metadata": {},
   "source": [
    "Let's draw the circuit."
   ]
  },
  {
   "cell_type": "code",
   "execution_count": 204,
   "metadata": {},
   "outputs": [
    {
     "data": {
      "image/png": "[encoded data removed]",
      "text/plain": [
       "<Figure size 1411x385.28 with 1 Axes>"
      ]
     },
     "execution_count": 204,
     "metadata": {},
     "output_type": "execute_result"
    }
   ],
   "source": [
    "# Example usage\n",
    "m = 6\n",
    "qc = QFT(m)\n",
    "qc.draw(output=\"mpl\")"
   ]
  },
  {
   "cell_type": "code",
   "execution_count": 205,
   "metadata": {},
   "outputs": [
    {
     "data": {
      "image/png": "[encoded data removed]",
      "text/plain": [
       "<Figure size 1049.8x325.08 with 1 Axes>"
      ]
     },
     "execution_count": 205,
     "metadata": {},
     "output_type": "execute_result"
    }
   ],
   "source": [
    "# Example usage\n",
    "m = 5\n",
    "qc = inv_QFT(m)\n",
    "qc.draw(output=\"mpl\")"
   ]
  },
  {
   "cell_type": "markdown",
   "metadata": {},
   "source": [
    "Let's check that $QFT|k\\rangle =\\frac{1}{\\sqrt{2^m}} \\sum_{j=0}^{2^m-1} e^{i2\\pi \\frac{kj}{2^m} }|j\\rangle$. You can also check yourself that $QFT\\, QFT^\\dagger= I $"
   ]
  },
  {
   "cell_type": "code",
   "execution_count": 206,
   "metadata": {},
   "outputs": [
    {
     "name": "stdout",
     "output_type": "stream",
     "text": [
      "The output state is the QFT of the input state: True\n"
     ]
    }
   ],
   "source": [
    "# Choose any state in the computational basis. We chose |k> = |5 > for the example.\n",
    "k = 5\n",
    "state = qi.Statevector.from_int(k,2**m)\n",
    "qc = QuantumCircuit(m)\n",
    "qc.initialize(state, range(m))\n",
    "qc.append(QFT(m, do_swaps=True), range(m))\n",
    "output = qi.Statevector.from_instruction(qc)\n",
    "\n",
    "expected = np.exp(2j * np.pi * k *  np.arange(2**m) /2**m) / np.sqrt(2**m)\n",
    "\n",
    "print(\"The output state is the QFT of the input state:\", output.equiv(expected))"
   ]
  },
  {
   "cell_type": "markdown",
   "metadata": {},
   "source": [
    "Let's construct our QPE circuit at last. We do not add the ancilla qubit for now. "
   ]
  },
  {
   "cell_type": "code",
   "execution_count": 207,
   "metadata": {},
   "outputs": [],
   "source": [
    "def QPE(A, n, m):\n",
    "    \"\"\"\n",
    "    Returns a quantum circuit that implements the Quantum Phase Estimation algorithm\n",
    "    A is a 2^n x 2^n matrix, and m is the number of memory qubits.\n",
    "    \"\"\"\n",
    "    qc = QuantumCircuit(n + m)\n",
    "    qc.append(Hadamard_layer(m), range(m))\n",
    "    qc.append(controlled_Us(A, n, m), range(m+n))\n",
    "    qc.append(inv_QFT(m), range(m))\n",
    "    ...\n",
    "    return qc"
   ]
  },
  {
   "cell_type": "code",
   "execution_count": 208,
   "metadata": {},
   "outputs": [],
   "source": [
    "def inv_QPE(A, n, m):\n",
    "    \"\"\"\n",
    "    Returns a quantum circuit that implements the Quantum Phase Estimation algorithm\n",
    "    A is a 2^n x 2^n matrix, and m is the number of memory qubits.\n",
    "    \"\"\"\n",
    "    qc = QuantumCircuit(n + m)\n",
    "    qc.append(QFT(m), range(m))\n",
    "    qc.append(inverse_controlled_Us(A, n, m), range(m+n))\n",
    "    qc.append(Hadamard_layer(m), range(m))\n",
    "    ...\n",
    "    return qc"
   ]
  },
  {
   "cell_type": "markdown",
   "metadata": {},
   "source": [
    "We will now test the QPE algorithm on a simple example. Let's consider the matrix $A = diag(1,2,4,8)$. The eigenvalues are $2^0,2^1,2^2,2^3$ associated to the eigenvectors $|00\\rangle = |0\\rangle, |01\\rangle=|1\\rangle,|10\\rangle = |2\\rangle,|11\\rangle = |3\\rangle$.\n",
    "If we choose $|b\\rangle = |i\\rangle$ one of the eigenvectors, then we expect the output to be $|2^i\\rangle \\otimes |i\\rangle $.\n",
    "\n",
    "In the next cell, we choose $|b\\rangle = |1 \\rangle$, but you can change it to the one you want.\n"
   ]
  },
  {
   "cell_type": "code",
   "execution_count": 209,
   "metadata": {},
   "outputs": [
    {
     "data": {
      "image/png": "[encoded data removed]",
      "text/plain": [
       "<Figure size 1170.2x385.28 with 1 Axes>"
      ]
     },
     "execution_count": 209,
     "metadata": {},
     "output_type": "execute_result"
    }
   ],
   "source": [
    "n = 2 #nb of qubits for A \n",
    "m = 4 #nb of memory qubits\n",
    "A = np.diag([1,2,4,8])\n",
    "\n",
    "qpe_circuit = QuantumCircuit(n + m)\n",
    "# Initialize the state |b> in the computational basis; here we choose |b> = |1> = | 01>\n",
    "qpe_circuit.prepare_state(\"01\", range(m,n+m))\n",
    "qpe_circuit = qpe_circuit.compose(QPE(A, n, m).decompose())\n",
    "qpe_circuit.draw(output=\"mpl\",fold=-1)\n"
   ]
  },
  {
   "cell_type": "markdown",
   "metadata": {},
   "source": [
    "**Warning**: Since qiskit changes the order of the qubits, we should instead observe $|i\\rangle \\otimes |2^i\\rangle $. \n",
    "\n",
    "With our example, we should observe $|1\\rangle \\otimes |2\\rangle = |01\\rangle \\otimes |0010\\rangle $"
   ]
  },
  {
   "cell_type": "code",
   "execution_count": 210,
   "metadata": {},
   "outputs": [
    {
     "data": {
      "text/latex": [
       "$$ |010010\\rangle$$"
      ],
      "text/plain": [
       "<IPython.core.display.Latex object>"
      ]
     },
     "metadata": {},
     "output_type": "display_data"
    }
   ],
   "source": [
    "output = qi.Statevector.from_instruction(qpe_circuit)\n",
    "display(output.draw('latex'))"
   ]
  },
  {
   "cell_type": "markdown",
   "metadata": {},
   "source": [
    "### The controlled rotation \n",
    "\n",
    "The central part of the algorithm is the control rotation that realizes the transformation $ R(|0\\rangle \\otimes |\\lambda\\rangle) = \\left(\\sqrt{1-\\frac{1}{\\lambda^2}}|0\\rangle + \\frac{1}{\\lambda}|1\\rangle\\right) \\otimes |\\lambda\\rangle $.\n",
    "\n",
    "#### But how to implement this operation ?\n",
    "\n",
    "First, note that since the eigenvalues are powers of 2, the only eigenvalue that has a $1$ at the $i$-th position in its binary decomposition is $2^i$. We also assume that $\\max_i (\\lambda_i) \\leq 2^{m-1}$. Thus, we can use the qubit $i$ to know if the memory register is in the state $|2^i\\rangle $ or not. We will use $m$ controlled $R_y(\\theta_i)$ gates, one per possible eigenvalue, to implement $R$. \n",
    "\n",
    "Remember that the $R_y$ gate is the unitary given by $R_y(\\theta) = \\left( \\begin{array}{cc} cos(\\theta/2) & -sin(\\theta/2)\\\\ sin(\\theta/2) & cos(\\theta/2) \\end{array}\\right)$. \n",
    "\n",
    "Each controlled rotation will act on the first ancilla qubit and be controlled by the $i$-th qubit of the memory register, we denote them $c_iR_y(\\theta_i)$.\n",
    "\n",
    "Thus, we have the decomposition $ R = c_1R_y(\\theta_1) \\dots c_m R_y(\\theta_m)$.\n",
    "\n",
    "What value of $\\theta_i$ should you choose to obtain $ R(|0\\rangle \\otimes |2^i \\rangle) = \\left(\\sqrt{1-\\frac{1}{2^{2i}}}|0\\rangle + \\frac{1}{2^i}|1\\rangle\\right) \\otimes |2^i\\rangle $ ? \n",
    "\n"
   ]
  },
  {
   "cell_type": "markdown",
   "metadata": {},
   "source": [
    "In the next cell, we choose i = 2 for the test. \n",
    "\n",
    "**Warning**: **Be careful with the ordering of the qubits!**\n",
    "\n",
    "In our handout, the ancilla register comes first, then comes the memory register: $ |0\\rangle \\otimes |2^2 \\rangle $ \n",
    "\n",
    "In qiskit, the order is reversed: $ |2^2 \\rangle |0\\rangle$.\n",
    "\n",
    "In our handout, the binary decomposition is written from left to right, from the most significant bit to the least significant bit : $|4\\rangle = |100\\rangle$.\n",
    "\n",
    "In qiskit, the order is reversed. \n",
    "\n",
    "So the input state is $|0\\rangle_{q_0} |2^2 \\rangle_{q_1q_2q_3}  = |1 \\rangle_{q_3}|0 \\rangle_{q_2}|0 \\rangle_{q_1} |0\\rangle_{q_0}$"
   ]
  },
  {
   "cell_type": "code",
   "execution_count": 234,
   "metadata": {},
   "outputs": [],
   "source": [
    "def R(m):\n",
    "    \"\"\"\n",
    "    Returns a quantum circuit that implements the R operator\n",
    "    R = \\prod_{i=1}^m C_i R_y\n",
    "    where R_y^i is a controlled rotation gate.\n",
    "    \"\"\"\n",
    "    qc = QuantumCircuit(m + 1, name=\"R\")\n",
    "    for qubit in range(m):\n",
    "        theta = 2*np.arcsin(1/2**qubit) \n",
    "        R_y = QuantumCircuit(1, name=f\"cR_y{qubit}\")\n",
    "        R_y.ry(theta, 0)\n",
    "        controlled_R_y = R_y.to_gate().control(1)\n",
    "        qc.append(controlled_R_y, [qubit+1, 0])\n",
    "    ...\n",
    "    return qc"
   ]
  },
  {
   "cell_type": "code",
   "execution_count": 235,
   "metadata": {},
   "outputs": [
    {
     "data": {
      "image/png": "[encoded data removed]",
      "text/plain": [
       "<Figure size 387.597x264.88 with 1 Axes>"
      ]
     },
     "metadata": {},
     "output_type": "display_data"
    }
   ],
   "source": [
    "qc_R = QuantumCircuit(4)\n",
    "qc_R.initialize(\"100\",[1,2,3])  # input state |100> = |4> = |2^2>\n",
    "qc_R.barrier()\n",
    "qc_R = qc_R.compose(R(3), range(4))\n",
    "display(qc_R.draw(output=\"mpl\"))"
   ]
  },
  {
   "cell_type": "markdown",
   "metadata": {},
   "source": [
    " For the output state, with qiskit ordering, we should observe $\\sqrt{1 - 2^{-2i}}|2^i\\rangle |0\\rangle + 1/ 2^i  |2^i\\rangle |1\\rangle$. \n",
    "\n",
    "In our case, we should observe $\\sqrt{15/16}|2^2\\rangle |0\\rangle + 1/ 2^2  |2^2 \\rangle |1\\rangle = \\sqrt{15/16}|100\\rangle |0\\rangle + 1/ 4  |100 \\rangle |1\\rangle$."
   ]
  },
  {
   "cell_type": "code",
   "execution_count": 236,
   "metadata": {},
   "outputs": [
    {
     "data": {
      "text/latex": [
       "$$\\frac{\\sqrt{15}}{4} |1000\\rangle+\\frac{1}{4} |1001\\rangle$$"
      ],
      "text/plain": [
       "<IPython.core.display.Latex object>"
      ]
     },
     "metadata": {},
     "output_type": "display_data"
    }
   ],
   "source": [
    "output = qi.Statevector.from_instruction(qc_R)\n",
    "display(output.draw('latex'))"
   ]
  },
  {
   "cell_type": "markdown",
   "metadata": {},
   "source": [
    "### Complete circuit\n",
    "\n",
    "We are ready to implement the complete circuit.\n",
    "\n",
    "Complete the next cell with the HHL circuit **without** the last measurement. "
   ]
  },
  {
   "cell_type": "code",
   "execution_count": 237,
   "metadata": {},
   "outputs": [],
   "source": [
    "def hhl_circuit(A, b, n, m):\n",
    "    \"\"\"\n",
    "    Returns a quantum circuit that implements the HHL algorithm\n",
    "    A is a 2^n x 2^n Hermitian matrix, and b is a vector of size 2^n.\n",
    "    The circuit uses 1 ancilla qubits and m memory qubit and n qubits for b.\n",
    "    \"\"\"\n",
    "   \n",
    "    qc = QuantumCircuit(1+ n + m, name=\"Complete circuit\")\n",
    "    qc.append(QPE(A, n, m), range(1, m+n+1))\n",
    "    qc.append(R(m), range(0, m+1))\n",
    "    qc.append(inv_QPE(A, n, m), range(1, n+m+1))\n",
    "    \n",
    "    ...\n",
    "    return qc"
   ]
  },
  {
   "cell_type": "markdown",
   "metadata": {},
   "source": [
    "Let's test it with a random $A$. If you need to debug your code, you might prefer reusing the previous diagonal $A$. "
   ]
  },
  {
   "cell_type": "code",
   "execution_count": 238,
   "metadata": {},
   "outputs": [
    {
     "data": {
      "image/png": "[encoded data removed]",
      "text/plain": [
       "<Figure size 507.997x325.08 with 1 Axes>"
      ]
     },
     "metadata": {},
     "output_type": "display_data"
    },
    {
     "data": {
      "image/png": "[encoded data removed]",
      "text/plain": [
       "<Figure size 748.797x325.08 with 1 Axes>"
      ]
     },
     "metadata": {},
     "output_type": "display_data"
    }
   ],
   "source": [
    "n = 2\n",
    "m = 2\n",
    "A = sample_A(n,m)\n",
    "b = np.array([1,0, 1, 1j]) \n",
    "b = b / np.linalg.norm(b)\n",
    "\n",
    "\n",
    "final_circuit = hhl_circuit(A, b,n, m)\n",
    "display(final_circuit.draw(output=\"mpl\",fold=-1))\n",
    "display(final_circuit.decompose().draw(output=\"mpl\", fold=-1))"
   ]
  },
  {
   "cell_type": "markdown",
   "metadata": {},
   "source": [
    "#### Final state\n",
    "\n",
    "We should observe that the memory qubits are all 0 as predicted."
   ]
  },
  {
   "cell_type": "code",
   "execution_count": 239,
   "metadata": {},
   "outputs": [
    {
     "data": {
      "text/latex": [
       "$$0.7921088867 |00000\\rangle+0.5426757211 |00001\\rangle+(0.1070813319 + 0.1378681184 i) |01000\\rangle+(-0.0618234358 - 0.0795981953 i) |01001\\rangle+(-0.0113230768 - 0.1288781827 i) |10000\\rangle+(0.0065373815 + 0.0744078535 i) |10001\\rangle+(-0.0514922056 - 0.0932022269 i) |11000\\rangle+(0.0297290388 + 0.0538103308 i) |11001\\rangle$$"
      ],
      "text/plain": [
       "<IPython.core.display.Latex object>"
      ]
     },
     "metadata": {},
     "output_type": "display_data"
    }
   ],
   "source": [
    "output = qi.Statevector.from_instruction(final_circuit)\n",
    "display(output.draw('latex'))"
   ]
  },
  {
   "cell_type": "markdown",
   "metadata": {},
   "source": [
    "The final state of the circuit is $ |0 \\rangle |0^{\\otimes m} \\rangle |y\\rangle + |1\\rangle |0^{\\otimes m} \\rangle|x\\rangle $ where $|x\\rangle $ is the solution of the system and $|y\\rangle$ is not. \n",
    "\n",
    "Let extract $|x \\rangle$ from the output state to verify that it's a solution to our system of equations. \n",
    "\n",
    "**Warning**: since the order of the qubits is reversed, what you really observed in the output state is $|y\\rangle|0^{\\otimes m} \\rangle |0 \\rangle+ |x\\rangle |0^{\\otimes m} \\rangle |1\\rangle $!\n",
    "\n",
    "*Hint*: $$|a\\rangle|0\\rangle|0\\rangle =  \\left( \\begin{array}{c} a_1 \\\\ a_2 \\end{array}\\right) \\otimes \\left( \\begin{array}{c} 1 \\\\ 0\\\\ 0\\\\0  \\end{array}\\right)  = \\left( \\begin{array}{c} a_1 \\\\ 0\\\\ 0\\\\0 \\\\ a_2 \\\\ 0\\\\ 0\\\\0  \\end{array}\\right) $$"
   ]
  },
  {
   "cell_type": "code",
   "execution_count": 256,
   "metadata": {},
   "outputs": [
    {
     "name": "stdout",
     "output_type": "stream",
     "text": [
      "(32,) 32\n",
      "The output state is the expected solution: False\n"
     ]
    }
   ],
   "source": [
    "output_state = output.data\n",
    "print(output_state.shape, 2**(m+n+1))\n",
    "x = qi.Statevector([output_state[2**(m+n)+1], output_state[2**(m+n)+2**m+1]])\n",
    "\n",
    "expected_solution = np.linalg.solve(A, b)\n",
    "expected_solution = expected_solution / np.linalg.norm(expected_solution)\n",
    "\n",
    "print(\"The output state is the expected solution:\", x.equiv(expected_solution))\n"
   ]
  },
  {
   "cell_type": "markdown",
   "metadata": {},
   "source": [
    "If we measure the ancilla qubit, what is the probability to obtain \"1\"?"
   ]
  },
  {
   "cell_type": "code",
   "execution_count": null,
   "metadata": {},
   "outputs": [],
   "source": [
    "p = ...\n",
    "\n",
    "print(\"The probability of success is: \", p)"
   ]
  },
  {
   "cell_type": "markdown",
   "metadata": {},
   "source": [
    "Let's simulate the circuit to verify that we obtain the same value.\n",
    "Add the measurement on the ancilla qubit to your circuit."
   ]
  },
  {
   "cell_type": "code",
   "execution_count": null,
   "metadata": {},
   "outputs": [],
   "source": [
    "circuit_with_measurements = QuantumCircuit( n + m + 1, 1)\n",
    "..."
   ]
  },
  {
   "cell_type": "markdown",
   "metadata": {},
   "source": [
    "Set up your simulator using a `StatevectorSampler`.\n",
    "\n",
    "**Warning**: When you measure all qubits, the result of the measure is in the attribute `data.meas` of the job result. When you measure only a few qubits, the result of the measure is in the attribute `data.c`."
   ]
  },
  {
   "cell_type": "code",
   "execution_count": null,
   "metadata": {},
   "outputs": [],
   "source": [
    "\n",
    "\n",
    "counts = ...\n",
    "\n",
    "display(plot_histogram(counts))\n",
    "print(\"The counts:\" , counts)\n",
    "print(\"The probabilities:\" , ...)\n"
   ]
  },
  {
   "cell_type": "markdown",
   "metadata": {},
   "source": [
    "### Reconstructing $|x\\rangle$ \n",
    "\n"
   ]
  },
  {
   "cell_type": "markdown",
   "metadata": {},
   "source": [
    "For this part, we will solve the specific system given in the handout. The eigenvalues of $A$ are only $1$ and $2$.\n",
    "\n",
    "Start by creating the circuit with the appropriate $A$ and $b$.  Add the measurements for the ancilla qubit and the $|x\\rangle$ register. \n",
    "\n",
    "Compute also the expected solution and the success probability."
   ]
  },
  {
   "cell_type": "code",
   "execution_count": null,
   "metadata": {},
   "outputs": [],
   "source": [
    "n = 1\n",
    "m = 2\n",
    "\n",
    "A = ...\n",
    "b = ...\n",
    "\n",
    "final_circuit =  ...\n",
    "\n",
    "final_circuit_with_measurements = ...\n",
    "\n",
    "expected_solution = ...\n",
    "\n",
    "p = ... \n",
    "\n",
    "print(\"The probability of success is: \",  p)\n",
    "print(\"The expected solution is:\", expected_solution)\n",
    "display(final_circuit.decompose().draw(output=\"mpl\",fold=-1))"
   ]
  },
  {
   "cell_type": "markdown",
   "metadata": {},
   "source": [
    "Use a `StatevectorSampler` to measure the first and last qubit. "
   ]
  },
  {
   "cell_type": "code",
   "execution_count": null,
   "metadata": {},
   "outputs": [],
   "source": [
    "\n",
    "counts = ...\n",
    "\n",
    "display(plot_histogram(counts))\n",
    "print(\"The counts:\" , counts)\n",
    "print(\"The probabilities:\" ,  ...)"
   ]
  },
  {
   "cell_type": "markdown",
   "metadata": {},
   "source": [
    "Try reconstructing $|x\\rangle$ from the output of the measurement. What is missing to completely determine $|x\\rangle$?"
   ]
  },
  {
   "cell_type": "code",
   "execution_count": null,
   "metadata": {},
   "outputs": [],
   "source": [
    "x_simulator = ..."
   ]
  },
  {
   "cell_type": "markdown",
   "metadata": {},
   "source": [
    "Now let see what happens on a real device. \n",
    "\n",
    "First, make sure `qiskit_ibm_runtime` is installed. If not, run `pip install qiskit-ibm-runtime` in your Python environment. Then, set up to use IBM Quantum Platform according to the [guide](https://docs.quantum.ibm.com/guides/setup-channel#set-up-to-use-ibm-quantum-platform)."
   ]
  },
  {
   "cell_type": "code",
   "execution_count": null,
   "metadata": {},
   "outputs": [],
   "source": [
    "from qiskit_ibm_runtime import QiskitRuntimeService\n",
    "\n",
    "service = QiskitRuntimeService()"
   ]
  },
  {
   "cell_type": "markdown",
   "metadata": {},
   "source": [
    "Let's choose a backend. Below, we are using the least busy one, but you can pre-set it if you want."
   ]
  },
  {
   "cell_type": "code",
   "execution_count": null,
   "metadata": {},
   "outputs": [],
   "source": [
    "backend = service.least_busy(operational=True)\n",
    "print(backend)"
   ]
  },
  {
   "cell_type": "markdown",
   "metadata": {},
   "source": [
    "Now, we want to send the circuits to a QPU. However, before this, we have to adapt them to the architecture of the chosen computer, as it might have a specific topology and a limited number of implemented basis gates. Transpile your circuit to adapt it to the backend architecture. \n"
   ]
  },
  {
   "cell_type": "code",
   "execution_count": null,
   "metadata": {},
   "outputs": [],
   "source": [
    "backend.configuration().basis_gates"
   ]
  },
  {
   "cell_type": "code",
   "execution_count": null,
   "metadata": {},
   "outputs": [],
   "source": [
    "transpiled_qc  = ...\n",
    "print(f'Depth of circuit after transpiling: {transpiled_qc.depth()}')\n",
    "transpiled_qc.draw(output=\"mpl\",idle_wires=False)"
   ]
  },
  {
   "cell_type": "markdown",
   "metadata": {},
   "source": [
    "Now, we instantiate the [`Sampler`](https://docs.quantum.ibm.com/api/qiskit-ibm-runtime/qiskit_ibm_runtime.SamplerV2) interface which allows us to use the backend for measurement."
   ]
  },
  {
   "cell_type": "code",
   "execution_count": null,
   "metadata": {},
   "outputs": [],
   "source": [
    "from qiskit_ibm_runtime import SamplerV2 as Sampler\n",
    "\n",
    "sampler = ...\n",
    "\n",
    "n_shots = ...\n",
    "\n",
    "job = ...\n",
    "print(f\">>> Job ID: {job.job_id()}\")"
   ]
  },
  {
   "cell_type": "code",
   "execution_count": null,
   "metadata": {},
   "outputs": [],
   "source": [
    "counts = ...\n",
    "\n",
    "print(\"The counts:\" , counts)\n",
    "print(\"The probabilities:\" , {key: value/n_shots for key, value in counts.items()})"
   ]
  },
  {
   "cell_type": "markdown",
   "metadata": {},
   "source": [
    "Reconstruct $|x\\rangle$. Compare the result to the one obtained with the simulator. "
   ]
  },
  {
   "cell_type": "code",
   "execution_count": null,
   "metadata": {},
   "outputs": [],
   "source": [
    "x_real = ...\n",
    "\n",
    "print(\"Error between the simulated solution and the real device one\", np.linalg.norm(x_real - x_simulator))"
   ]
  },
  {
   "cell_type": "markdown",
   "metadata": {},
   "source": [
    "### Bonus"
   ]
  },
  {
   "cell_type": "markdown",
   "metadata": {},
   "source": [
    "With a real quantum device, we don't have direct access to the state. We can only gain information through measurement. \n",
    "\n",
    "\n",
    "Start by creating the circuit with the new $A$ and $b$ without the ancilla measurement. Compute also the expected solution and the probability of success. "
   ]
  },
  {
   "cell_type": "code",
   "execution_count": null,
   "metadata": {},
   "outputs": [],
   "source": [
    "n = 1\n",
    "m = 2\n",
    "\n",
    "A = ...\n",
    "b = ...\n",
    "\n",
    "\n",
    "final_circuit = ...\n",
    "\n",
    "p = ...\n",
    "\n",
    "print(\"The probability of success is: \", p)\n",
    "\n",
    "expected_solution = ...\n",
    "\n",
    "\n",
    "print(\"The expected solution is:\", expected_solution)\n",
    "display(final_circuit.decompose().draw(output=\"mpl\",fold=-1))"
   ]
  },
  {
   "cell_type": "markdown",
   "metadata": {},
   "source": [
    "Let's create the 4 observables $\\sigma \\in \\{I,X,Y,Z\\}$ using `SparsePauliOp`. "
   ]
  },
  {
   "cell_type": "code",
   "execution_count": null,
   "metadata": {},
   "outputs": [],
   "source": [
    "\n",
    "X = ...\n",
    "Z = ...\n",
    "Y = ...\n",
    "I = ..."
   ]
  },
  {
   "cell_type": "markdown",
   "metadata": {},
   "source": [
    "To do the measure on the real device, we need to define the observables for the full circuit, so for the 4 qubits. \n",
    "\n",
    "We want to measure the observables only when the result of the measurement on the ancilla qubit is 1.  Thus, the observable for the ancilla qubit will be $P_1 = |1\\rangle \\langle 1|$. We are not interested in the 2 memory qubits since they are in the state $|0\\rangle^{\\otimes 2}$, so the final observables will be $P_1 \\otimes I \\otimes I \\otimes \\sigma$ instead of just $\\sigma$. \n",
    "Adapt your previous operators and store them in the list `observables`. You can use the `expand()` method of the operators.\n"
   ]
  },
  {
   "cell_type": "code",
   "execution_count": null,
   "metadata": {},
   "outputs": [],
   "source": [
    "P1 = ...\n",
    "\n",
    "observables = ..."
   ]
  },
  {
   "cell_type": "markdown",
   "metadata": {},
   "source": [
    "#### Simulator \n",
    "\n",
    "We start by running our circuit on the simulator.\n",
    "\n",
    "Set up your simulator using a [`StatevectorEstimator`](https://docs.quantum.ibm.com/api/qiskit/qiskit.primitives.StatevectorEstimator) since this time we are measuring observables. \n",
    "\n",
    "The result of the measure is in the attribute `data.evs` of the job result (for expectation values). It's a list containing the expectation values $\\langle P_1 \\otimes I_2 \\otimes I_2 \\otimes \\sigma\\rangle$ for $\\sigma \\in \\{I,X,Y,Z\\}$.\n"
   ]
  },
  {
   "cell_type": "code",
   "execution_count": null,
   "metadata": {},
   "outputs": [],
   "source": [
    "estimator_perfect = StatevectorEstimator(default_precision=1e-10)\n",
    "\n",
    "data_simulated = ...\n",
    "print(\"The estimated expectation values are: \", data_simulated)"
   ]
  },
  {
   "cell_type": "markdown",
   "metadata": {},
   "source": [
    "Reconstruct the matrix $\\rho$ from the results of the measurement: \n",
    "    $$\\rho = \\frac{\\langle I \\rangle I + \\langle X \\rangle X+\\langle Y \\rangle Y+\\langle Z \\rangle Z}{\\sqrt{2}}$$\n",
    "\n",
    "Hint : $Tr (A \\otimes B)$ = $Tr(A) Tr(B)$ and verify that $Tr(\\rho) =1$"
   ]
  },
  {
   "cell_type": "code",
   "execution_count": null,
   "metadata": {},
   "outputs": [],
   "source": [
    "rho = ..."
   ]
  },
  {
   "cell_type": "markdown",
   "metadata": {},
   "source": [
    "Since $\\rho =|x\\rangle \\langle x|$, compute $|x\\rangle$ and check the error with the expected solution. Don't forget about the global phase.\n",
    "Compare the obtained error with the `default_precision` parameter of the `StatevectorEstimator`. "
   ]
  },
  {
   "cell_type": "code",
   "execution_count": null,
   "metadata": {},
   "outputs": [],
   "source": [
    "x_reconstructed = ...\n",
    "\n",
    "print(\"Error between the simulated solution and the expected one\", np.linalg.norm(x_reconstructed - expected_solution))"
   ]
  },
  {
   "cell_type": "markdown",
   "metadata": {},
   "source": [
    "#### Real device\n",
    "\n",
    "Now we are going to make the observable measurements on a real quantum computer.\t\n",
    "\n"
   ]
  },
  {
   "cell_type": "markdown",
   "metadata": {},
   "source": [
    "Let's choose a backend. Below, we are using the least busy one, but you can pre-set it if you want.\n"
   ]
  },
  {
   "cell_type": "code",
   "execution_count": null,
   "metadata": {},
   "outputs": [],
   "source": [
    "backend = service.least_busy(operational=True)\n",
    "print(backend)"
   ]
  },
  {
   "cell_type": "markdown",
   "metadata": {},
   "source": [
    "Now, we want to send the circuits to a QPU and measure the observables. However, before this, we have to adapt them to the architecture of the chosen computer, as it might have a specific topology and a limited number of implemented basis gates. Transpile your circuit to adapt it to the backend architecture. \n"
   ]
  },
  {
   "cell_type": "code",
   "execution_count": null,
   "metadata": {},
   "outputs": [],
   "source": [
    "backend.configuration().basis_gates"
   ]
  },
  {
   "cell_type": "code",
   "execution_count": null,
   "metadata": {},
   "outputs": [],
   "source": [
    "transpiled_qc = ...\n",
    "print(f'Depth of circuit after transpiling: {transpiled_qc.depth()}')\n",
    "transpiled_qc.draw(output=\"mpl\",idle_wires=False)"
   ]
  },
  {
   "cell_type": "markdown",
   "metadata": {},
   "source": [
    "The real device has more qubits than what we need. So we also have to adapt the observables to the updated circuit. The next cell shows how it can be done.\n",
    "\n",
    "Remark that it consists of adding $I$ on all the qubit we don't use."
   ]
  },
  {
   "cell_type": "code",
   "execution_count": null,
   "metadata": {},
   "outputs": [],
   "source": [
    "observables_layout = [ O.apply_layout(transpiled_qc.layout) for O in observables]\n",
    "print(\"The layout of the observables is:\", observables_layout[0])"
   ]
  },
  {
   "cell_type": "markdown",
   "metadata": {},
   "source": [
    "Now, we instantiate the [`Estimator`](https://docs.quantum.ibm.com/api/qiskit-ibm-runtime/qiskit_ibm_runtime.EstimatorV2) interface which allows us to use the backend for observables measurement."
   ]
  },
  {
   "cell_type": "code",
   "execution_count": null,
   "metadata": {},
   "outputs": [],
   "source": [
    "from qiskit_ibm_runtime import EstimatorV2 as Estimator\n",
    "\n",
    "estimator_hardware = Estimator(mode=backend)"
   ]
  },
  {
   "cell_type": "markdown",
   "metadata": {},
   "source": [
    "Finally, we can submit the circuit, which is done in the same fashion as in the tutorial. Fill in the argument with the transpiled circuits and corresponding observables.\n",
    "\n",
    "The real circuit, unlike the perfect simulator, estimates $\\langle \\sigma \\rangle$ through actual measurements rather than the mathematical operations. The number of shots is indirectly specified through the `precision` argument &mdash; it is of order $O(\\frac{1}{\\sqrt{\\mathrm{n\\_shots}}})$. The lower is its value, the higher is the number of shots used.  Default is usually set to $0.015625 = \\frac{1}{\\sqrt{4096}}$, i.e. 4096 shots ([source](https://github.com/Qiskit/qiskit-ibm-runtime/blob/639f3071833cef46443adf83eba7ea925b00257c/qiskit_ibm_runtime/options/estimator_options.py#L39)).\n",
    " "
   ]
  },
  {
   "cell_type": "code",
   "execution_count": null,
   "metadata": {},
   "outputs": [],
   "source": [
    "job = estimator_hardware.run([(transpiled_qc, observables_layout)])\n",
    "\n",
    "# Use the job ID to retrieve your job data later\n",
    "print(f\">>> Job ID: {job.job_id()}\")"
   ]
  },
  {
   "cell_type": "markdown",
   "metadata": {},
   "source": [
    "Compare the results with the simulated data. To retrieve the job results, do like in the simulation."
   ]
  },
  {
   "cell_type": "code",
   "execution_count": null,
   "metadata": {},
   "outputs": [],
   "source": [
    "data_estimated = ...\n",
    "print(\"The estimated expectation values are: \", data_estimated)\n",
    "print(\"The simulated expectation values are: \", data_simulated)"
   ]
  },
  {
   "cell_type": "markdown",
   "metadata": {},
   "source": [
    "Reconstruct the matrix $\\rho$ and the state $|x\\rangle$. \n",
    "\n",
    "How close are you from the real solution? Comment your result."
   ]
  },
  {
   "cell_type": "code",
   "execution_count": null,
   "metadata": {},
   "outputs": [],
   "source": [
    "rho_hardware = ...\n",
    "x_hardware = ...\n",
    "\n",
    "\n",
    "print(\"Error between the noisy solution and the expected one\", np.linalg.norm(x_hardware - expected_solution))"
   ]
  }
 ],
 "metadata": {
  "kernelspec": {
   "display_name": "Python 3",
   "language": "python",
   "name": "python3"
  },
  "language_info": {
   "codemirror_mode": {
    "name": "ipython",
    "version": 3
   },
   "file_extension": ".py",
   "mimetype": "text/x-python",
   "name": "python",
   "nbconvert_exporter": "python",
   "pygments_lexer": "ipython3",
   "version": "3.9.7"
  }
 },
 "nbformat": 4,
 "nbformat_minor": 2
}
